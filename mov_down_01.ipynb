{
  "nbformat": 4,
  "nbformat_minor": 0,
  "metadata": {
    "colab": {
      "provenance": [],
      "authorship_tag": "ABX9TyMg9SPmInhY06DcojkmgRIi",
      "include_colab_link": true
    },
    "kernelspec": {
      "name": "python3",
      "display_name": "Python 3"
    },
    "language_info": {
      "name": "python"
    }
  },
  "cells": [
    {
      "cell_type": "markdown",
      "metadata": {
        "id": "view-in-github",
        "colab_type": "text"
      },
      "source": [
        "<a href=\"https://colab.research.google.com/github/KimYangkon/mov_down_01/blob/main/mov_down_01.ipynb\" target=\"_parent\"><img src=\"https://colab.research.google.com/assets/colab-badge.svg\" alt=\"Open In Colab\"/></a>"
      ]
    },
    {
      "cell_type": "code",
      "execution_count": null,
      "metadata": {
        "id": "ejGLs3FAxiLx"
      },
      "outputs": [],
      "source": [
        "# 유튜브 영상과 음성 다운로드\n",
        "!pip install pafy pytube youtube_dl\n",
        "import pafy, pytube, glob, cv2  # cv2.__version__\n",
        "from google.colab import files"
      ]
    },
    {
      "cell_type": "code",
      "source": [
        "# 유튜브 영상-음성 다운로드(pytube 이용), url 직접 지정\n",
        "mov_y0 = 'https://www.youtube.com/watch?v=fhwQPPRGjTI&list=RDCMUC_tPId5myBusgodN1E1roxw&index=36' # 손해평가사, 06:09\n",
        "\n",
        "MOVIE_URL = mov_y0 #\n",
        "yt = pytube.YouTube(MOVIE_URL, use_oauth=False, allow_oauth_cache=True)\n",
        "movie_title = yt.title # 제목\n",
        "movie_target = yt.streams.filter(res='720p') # 영상포함\n",
        "if movie_target.count==0: #no movie with filtering condition\n",
        "    quit()\n",
        "else: #if movie is exist download first stream\n",
        "    print(movie_target[0]) # 정보: Stream 속성\n",
        "    print(movie_title) # /content/drive/MyDrive/movie/Vetnam\n",
        "    movie_file = movie_target[0].download('/content/drive/MyDrive/주택관리사시험/시설개론_mp4') # 영상전체, 폴더위치\n",
        "    files.download(movie_file) # local drive 다운로드\n",
        "    movie_target2 = yt.streams.filter(only_audio=True).first()#.download()\n",
        "    movie_file2 = movie_target2.download('/content/drive/MyDrive/주택관리사시험/시설개론_mp3') # 음성파일, 구글 드라이브 음성 폴더 위치\n",
        "print('영상파일: ', movie_file)\n",
        "print('음성파일: ', movie_file2)"
      ],
      "metadata": {
        "id": "surydytayAVs"
      },
      "execution_count": null,
      "outputs": []
    }
  ]
}